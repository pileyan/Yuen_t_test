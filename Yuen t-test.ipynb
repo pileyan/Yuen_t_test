{
 "cells": [
  {
   "cell_type": "markdown",
   "metadata": {},
   "source": [
    "# Тест Юэна-Уэлча"
   ]
  },
  {
   "cell_type": "markdown",
   "metadata": {},
   "source": [
    "За реализацию спасибо [mdhaber](https://gist.github.com/mdhaber)"
   ]
  },
  {
   "cell_type": "markdown",
   "metadata": {},
   "source": [
    "Теорию читать [тут](https://www.ncss.com/wp-content/themes/ncss/pdf/Procedures/PASS/Equivalence_Tests_for_Two_Means-Simulation.pdf),[тут](https://www.jstor.org/stable/pdf/2334299.pdf) и [тут](https://www.jstor.org/stable/pdf/2334550.pdf)\n"
   ]
  },
  {
   "cell_type": "markdown",
   "metadata": {},
   "source": [
    "## Функции для trimmed-среднего и winsorized-среднего\n",
    "\n",
    "**trimmed** - сортируем выборку по возрастанию, откусываем g значений снизу выборки и g значений сверху выборки\n",
    "\n",
    "**winsorized** - сортируем выборку по возрастанию, первые g значений заменяем на g+1 значение, а последние g значений на N-g'тое значение."
   ]
  },
  {
   "cell_type": "code",
   "execution_count": 5,
   "metadata": {},
   "outputs": [],
   "source": [
    "from scipy import stats\n",
    "import numpy as np\n",
    "\n",
    "\n",
    "def xbar_tg_fun(x, g):\n",
    "    n = len(x)\n",
    "    return 1/(n-2*g)*np.sum(x[g:-g])\n",
    "\n",
    "\n",
    "def xbar_wg_fun(x, g):\n",
    "    n = len(x)\n",
    "    # return 1/n * ((g + 1)*x[g] + np.sum(x[g+1:-g-1]) + (g + 1)*x[-g-1])\n",
    "    i = np.arange(1, n+1)  # to make indexing really easy\n",
    "    return 1/n * ((g + 1)*x[i == g+1]\n",
    "                  + np.sum(x[(i >= g+2) & (i <= n-g-1)])\n",
    "                  + (g + 1)*x[i == n-g])[0]"
   ]
  },
  {
   "cell_type": "markdown",
   "metadata": {},
   "source": [
    "## Winsorized сумма ошибок и вспомогательные функции"
   ]
  },
  {
   "cell_type": "code",
   "execution_count": 6,
   "metadata": {},
   "outputs": [],
   "source": [
    "def SSD_wg_fun(x, g):\n",
    "    n = len(x)\n",
    "    xbar_wg = xbar_wg_fun(x, g)\n",
    "    # return ((g + 1)*(x[g] - xbar_wg)**2\n",
    "    #         + np.sum((x[g+1:-g-1] - xbar_wg)**2)\n",
    "    #         + (g + 1)*(x[-g-1] - xbar_wg)**2)\n",
    "    i = np.arange(1, n + 1)  # to make indexing really easy\n",
    "    return ((g + 1)*(x[i == g+1] - xbar_wg)**2\n",
    "            + np.sum((x[(i >= g+2) & (i <= n-g-1)] - xbar_wg)**2)\n",
    "            + (g + 1)*(x[i == n-g] - xbar_wg)**2)[0]\n",
    "\n",
    "\n",
    "def s_wg2_fun(x, g):\n",
    "    h = h_fun(x, g)\n",
    "    SSD_wg = SSD_wg_fun(x, g)\n",
    "    return SSD_wg / (h-1)\n",
    "\n",
    "\n",
    "def h_fun(x, g):\n",
    "    n = len(x)\n",
    "    return n - 2*g\n",
    "\n",
    "\n",
    "def ngh(x, trim):\n",
    "    n = len(x)\n",
    "    g = int(trim*n)\n",
    "    h = h_fun(x, g)\n",
    "    return n, g, h"
   ]
  },
  {
   "cell_type": "markdown",
   "metadata": {},
   "source": [
    "## Функции для расчета статистики при равных дисперсиях (и при неравеных дисперсиях)"
   ]
  },
  {
   "cell_type": "code",
   "execution_count": 7,
   "metadata": {},
   "outputs": [],
   "source": [
    "def t_unequal_var_fun(x1, x2, trim):\n",
    "    n1, g1, h1 = ngh(x1, trim)\n",
    "    n2, g2, h2 = ngh(x2, trim)\n",
    "\n",
    "    x1bar_tg = xbar_tg_fun(x1, g1)\n",
    "    x2bar_tg = xbar_tg_fun(x2, g2)\n",
    "    num = (x1bar_tg - x2bar_tg)\n",
    "\n",
    "    s1_wg2 = s_wg2_fun(x1, g1)\n",
    "    s2_wg2 = s_wg2_fun(x2, g2)\n",
    "    den = np.sqrt(s1_wg2 / h1 + s2_wg2 / h2)\n",
    "\n",
    "    return num/den\n",
    "\n",
    "\n",
    "def f_unequal_var_fun(x1, x2, trim):\n",
    "    n1, g1, h1 = ngh(x1, trim)\n",
    "    n2, g2, h2 = ngh(x2, trim)\n",
    "\n",
    "    c = c_fun(x1, x2, trim)\n",
    "    f_recip = c**2/(h1-1) + (1-c)**2/(h2-1)\n",
    "    return 1/f_recip\n",
    "\n",
    "\n",
    "def c_fun(x1, x2, trim):\n",
    "    n1, g1, h1 = ngh(x1, trim)\n",
    "    n2, g2, h2 = ngh(x2, trim)\n",
    "\n",
    "    s1_wg2 = s_wg2_fun(x1, g1)\n",
    "    s2_wg2 = s_wg2_fun(x2, g2)\n",
    "    return (s1_wg2/h1) / (s1_wg2/h1 + s2_wg2/h2)\n",
    "\n",
    "def t_equal_var_fun(x1, x2, trim):\n",
    "    n1, g1, h1 = ngh(x1, trim)\n",
    "    n2, g2, h2 = ngh(x2, trim)\n",
    "\n",
    "    x1bar_tg = xbar_tg_fun(x1, g1)\n",
    "    x2bar_tg = xbar_tg_fun(x2, g2)\n",
    "    num = (x1bar_tg - x2bar_tg)\n",
    "\n",
    "    SSD1_wg = SSD_wg_fun(x1, g1)\n",
    "    SSD2_wg = SSD_wg_fun(x2, g2)\n",
    "    den = np.sqrt((SSD1_wg + SSD2_wg) / (h1 + h2 - 2) * (1/h1 + 1/h2))\n",
    "\n",
    "    return num/den\n",
    "\n",
    "\n",
    "def f_equal_var_fun(x1, x2, trim):\n",
    "    n1, g1, h1 = ngh(x1, trim)\n",
    "    n2, g2, h2 = ngh(x2, trim)\n",
    "\n",
    "    return h1 + h2 - 2\n"
   ]
  },
  {
   "cell_type": "markdown",
   "metadata": {},
   "source": [
    "## Ну а теперь завернем все это в одну готовую функцию"
   ]
  },
  {
   "cell_type": "code",
   "execution_count": 8,
   "metadata": {},
   "outputs": [],
   "source": [
    "def yuen_t_test(x1, x2, trim, equal_var):\n",
    "    x1 = np.sort(x1)\n",
    "    x2 = np.sort(x2)\n",
    "    if equal_var:\n",
    "        t_fun = t_equal_var_fun\n",
    "        f_fun = f_equal_var_fun\n",
    "    else:\n",
    "        t_fun = t_unequal_var_fun\n",
    "        f_fun = f_unequal_var_fun\n",
    "    t = t_fun(x1, x2, trim)\n",
    "    df = f_fun(x1, x2, trim)\n",
    "    pval = 2*stats.t.sf(np.abs(t), df)\n",
    "    return t, pval"
   ]
  },
  {
   "cell_type": "code",
   "execution_count": null,
   "metadata": {},
   "outputs": [],
   "source": []
  }
 ],
 "metadata": {
  "kernelspec": {
   "display_name": "Python 3",
   "language": "python",
   "name": "python3"
  },
  "language_info": {
   "codemirror_mode": {
    "name": "ipython",
    "version": 3
   },
   "file_extension": ".py",
   "mimetype": "text/x-python",
   "name": "python",
   "nbconvert_exporter": "python",
   "pygments_lexer": "ipython3",
   "version": "3.8.3"
  }
 },
 "nbformat": 4,
 "nbformat_minor": 4
}
